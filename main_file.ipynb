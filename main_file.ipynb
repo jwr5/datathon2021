{
 "cells": [
  {
   "cell_type": "code",
   "execution_count": null,
   "id": "dietary-footwear",
   "metadata": {},
   "outputs": [],
   "source": [
    "import requests"
   ]
  },
  {
   "cell_type": "code",
   "execution_count": null,
   "id": "intended-peninsula",
   "metadata": {},
   "outputs": [],
   "source": [
    "import requests.auth"
   ]
  },
  {
   "cell_type": "code",
   "execution_count": null,
   "metadata": {},
   "outputs": [],
   "source": [
    "from credentials import CLIENT_ID, CLIENT_SECRET"
   ]
  },
  {
   "cell_type": "code",
   "execution_count": null,
   "id": "identified-broadway",
   "metadata": {},
   "outputs": [],
   "source": [
    "client_auth = requests.auth.HTTPBasicAuth(CLIENT_ID, CLIENT_SECRET)"
   ]
  },
  {
   "cell_type": "code",
   "execution_count": null,
   "id": "competent-sierra",
   "metadata": {},
   "outputs": [],
   "source": [
    "post_data = {\"grant_type\": \"password\", \"username\": \"rice_stock_analysis\", \"password\": \"ricedatathon2021\"}"
   ]
  },
  {
   "cell_type": "code",
   "execution_count": null,
   "id": "hundred-masters",
   "metadata": {},
   "outputs": [],
   "source": [
    "headers = {\"User-Agent\": \"ChangeMeClient/0.1 by rice_stock_analysis\"}"
   ]
  },
  {
   "cell_type": "code",
   "execution_count": null,
   "id": "arbitrary-margin",
   "metadata": {},
   "outputs": [],
   "source": [
    "response = requests.post(\"https://www.reddit.com/api/v1/access_token\", auth=client_auth, data=post_data, headers=headers)"
   ]
  },
  {
   "cell_type": "code",
   "execution_count": null,
   "id": "flying-premises",
   "metadata": {},
   "outputs": [],
   "source": [
    "response.json()"
   ]
  },
  {
   "cell_type": "code",
<<<<<<< HEAD
   "execution_count": 25,
=======
   "execution_count": null,
   "id": "pursuant-hawaiian",
   "metadata": {},
   "outputs": [],
   "source": [
    "import praw"
   ]
  },
  {
   "cell_type": "code",
   "execution_count": null,
   "id": "funded-prophet",
   "metadata": {},
   "outputs": [],
   "source": [
    "reddit = praw.Reddit(client_id=\"L8_Qc_YBl1M0iQ\", client_secret=\"ZdHNBR6xxLlvPRGhFHkdml13GnVW1w\",\n",
    "                    user_agent=\"android:com.example.myredditapp:v1.2.3 (by u/rice_stock_analysis)\")"
   ]
  },
  {
   "cell_type": "code",
   "execution_count": null,
>>>>>>> 264bc67f6582a43aa8a703fbf00737cb3fe3166b
   "id": "maritime-williams",
   "metadata": {},
   "outputs": [],
   "source": [
    "import praw"
   ]
  },
  {
   "cell_type": "code",
<<<<<<< HEAD
   "execution_count": 26,
=======
   "execution_count": null,
>>>>>>> 264bc67f6582a43aa8a703fbf00737cb3fe3166b
   "id": "paperback-inventory",
   "metadata": {},
   "outputs": [],
   "source": [
    "reddit = praw.Reddit(client_id=\"L8_Qc_YBl1M0iQ\", client_secret=\"ZdHNBR6xxLlvPRGhFHkdml13GnVW1w\",\n",
    "                    user_agent=\"android:com.example.myredditapp:v1.2.3 (by u/rice_stock_analysis)\")"
   ]
  },
  {
   "cell_type": "code",
<<<<<<< HEAD
   "execution_count": 27,
=======
   "execution_count": null,
>>>>>>> 264bc67f6582a43aa8a703fbf00737cb3fe3166b
   "id": "national-reminder",
   "metadata": {},
   "outputs": [],
   "source": [
    "print(reddit.read_only)"
   ]
  },
  {
   "cell_type": "code",
<<<<<<< HEAD
   "execution_count": 28,
   "id": "synthetic-replica",
   "metadata": {},
   "outputs": [],
   "source": [
    "wsb = reddit.subreddit('wallstreetbets')"
   ]
  },
  {
   "cell_type": "code",
   "execution_count": 29,
   "id": "speaking-valve",
   "metadata": {},
   "outputs": [],
   "source": [
    "hot_wsb = wsb.hot(limit = 1)"
   ]
  },
  {
   "cell_type": "code",
   "execution_count": 31,
   "id": "verified-coordinator",
   "metadata": {},
   "outputs": [],
=======
   "execution_count": null,
   "id": "orange-performance",
   "metadata": {},
   "outputs": [],
>>>>>>> 264bc67f6582a43aa8a703fbf00737cb3fe3166b
   "source": [
    "\n",
    "for submission in hot_wsb:\n",
    "    print(20*\"-\")\n",
    "    comments = submission.comments\n",
    "    limit = 0\n",
    "    for comment in comments:\n",
    "        if limit > 5:\n",
    "            break\n",
    "        print(20*\"*\")\n",
    "        print(comment.body)\n",
    "        limit = limit + 1"
   ]
  },
  {
   "cell_type": "code",
   "execution_count": null,
   "id": "sunrise-horizon",
   "metadata": {},
   "outputs": [],
   "source": []
  }
 ],
 "metadata": {
  "kernelspec": {
   "display_name": "Python 3",
   "language": "python",
   "name": "python3"
  },
  "language_info": {
   "codemirror_mode": {
    "name": "ipython",
    "version": 3
   },
   "file_extension": ".py",
   "mimetype": "text/x-python",
   "name": "python",
   "nbconvert_exporter": "python",
   "pygments_lexer": "ipython3",
   "version": "3.8.1-final"
  }
 },
 "nbformat": 4,
 "nbformat_minor": 5
}