{
 "cells": [
  {
   "cell_type": "code",
   "execution_count": 2,
   "id": "dietary-footwear",
   "metadata": {},
   "outputs": [],
   "source": [
    "import requests"
   ]
  },
  {
   "cell_type": "code",
   "execution_count": 3,
   "id": "adapted-underground",
   "metadata": {},
   "outputs": [],
   "source": [
    "from subreddits import SUBS"
   ]
  },
  {
   "cell_type": "code",
   "execution_count": 4,
   "id": "intended-peninsula",
   "metadata": {},
   "outputs": [],
   "source": [
    "import requests.auth\n",
    "from credentials import CLIENT_ID, CLIENT_SECRET"
   ]
  },
  {
   "cell_type": "code",
   "execution_count": 5,
   "id": "plain-monkey",
   "metadata": {},
   "outputs": [],
   "source": [
    "import praw"
   ]
  },
  {
   "cell_type": "code",
   "execution_count": 6,
   "id": "chronic-format",
   "metadata": {},
   "outputs": [],
   "source": [
    "import pandas as pd"
   ]
  },
  {
   "cell_type": "code",
   "execution_count": 7,
   "id": "supreme-threshold",
   "metadata": {},
   "outputs": [],
   "source": [
    "def get_reddit():\n",
    "    client_auth = requests.auth.HTTPBasicAuth(CLIENT_ID, CLIENT_SECRET)\n",
    "    post_data = {\"grant_type\": \"password\", \"username\": \"rice_stock_analysis\", \"password\": \"ricedatathon2021\"}\n",
    "    headers = {\"User-Agent\": \"ChangeMeClient/0.1 by rice_stock_analysis\"}\n",
    "    response = requests.post(\"https://www.reddit.com/api/v1/access_token\", auth=client_auth, data=post_data, headers=headers)\n",
    "    response.json()\n",
    "    reddit = praw.Reddit(client_id=CLIENT_ID, client_secret=CLIENT_SECRET,\n",
    "                    user_agent=\"android:com.example.myredditapp:v1.2.3 (by u/rice_stock_analysis)\")\n",
    "    return reddit\n",
    "    "
   ]
  },
  {
   "cell_type": "code",
   "execution_count": 8,
   "id": "verified-coordinator",
   "metadata": {},
   "outputs": [],
   "source": [
    "def get_comments(sub, post_limit, comment_limit):\n",
    "    \n",
    "    reddit = get_reddit()\n",
    "    subreddit = reddit.subreddit(sub)\n",
    "    hot_sub = subreddit.hot(limit = post_limit)\n",
    "    master_list = []\n",
    "    \n",
    "    for submission in hot_sub:\n",
    "        comments = submission.comments\n",
    "        limit = 0\n",
    "        for comment in comments:\n",
    "            if limit > comment_limit:\n",
    "                break\n",
    "            master_list.append(comment.body)\n",
    "            limit = limit + 1\n",
    "    return master_list"
   ]
  },
  {
   "cell_type": "code",
   "execution_count": 9,
   "id": "sunrise-horizon",
   "metadata": {},
   "outputs": [],
   "source": [
    "#comments_list = get_comments('wallstreetbets')"
   ]
  },
  {
   "cell_type": "code",
   "execution_count": 10,
   "id": "australian-voluntary",
   "metadata": {},
   "outputs": [],
   "source": [
    "#print(comments_list)"
   ]
  },
  {
   "cell_type": "code",
   "execution_count": 11,
   "id": "streaming-judge",
   "metadata": {},
   "outputs": [],
   "source": [
    "def get_posts(sub, post_limit):\n",
    "    \n",
    "    reddit = get_reddit()\n",
    "    subreddit = reddit.subreddit(sub)\n",
    "    hot_sub = subreddit.hot(limit = post_limit)\n",
    "    master_list = []\n",
    "    \n",
    "    for submission in hot_sub:\n",
    "        master_list.append(submission.selftext)\n",
    "    \n",
    "    return master_list"
   ]
  },
  {
   "cell_type": "code",
   "execution_count": 12,
   "id": "selected-phrase",
   "metadata": {},
   "outputs": [
    {
     "name": "stdout",
     "output_type": "stream",
     "text": [
      "['Your weekend discussion thread. Please keep the shitposting to a maximum!', \"   Ok but not really but once again, our community held together and endured the face of corruption.  Corporate juggernauts marginalized us, rampant profiteers sought forth to influence us in hopes to acquire us. The community rallied to support /u/zjz to defend us but circumstances aren't aligned at this time for him to fulfill his duty. He is not a martyr but one of many guardians that oversee now almost 9 million of you. People talk like his bots are what's important. Truth is that it is how much of his life he dedicates to this thankless task that makes him an asset.  How he spends the time getting to know as many of you on a personal level lets you know this sub isn't run by robots but people.   \\n\\nA repeat of history haunted us recently. Some of the mods took risks to make a stand against a repeat. I stood with them because our resolve is unwavering in protecting the integrity of the community. Our moderators are the biggest obstacle for those wanting to take advantage but this story isn't about us moderators. This is another story about you.  We are here for the community, not the other way around. The ones who didn't understand are finally gone. Those of us who remain are left to repair the tarnished culture of moderators past. While temptation became a challenge for them, there is no denying their past contributions. We wish them the very best.\\n\\n&#x200B;\\n\\n  There have been many opportunists popping up everywhere pretending they /r/wallstreetbets. From fake merch to fake discords, fake social media accounts, and subreddits. If it's not linked here, it does not officially represent the subreddit.  They say that imitation is a form of flattery. Clout chasing is for clowns.     \\n\\n&#x200B;\\n\\n&#x200B;\\n\\nSo how are things different?  We hope to change the way we do things internally, getting rid of secretive groups within the ranks and commit to open communication where there was none previously. The mistrust lingers heavily but I'm confident that our goals are aligned and hope this will the basis in which we will heal any wounds.  Any differences will be worked out, not just set aside so that we may remain one cohesive unit in support of the largest community of traders, investors of all ages, and experience. When we help each other, support one another we can all persevere through anything. That how we win.  Winners give off an aura that fuels phenomenal growth in our community as well as our wallets.\\n\\n&#x200B;\\n\\n&#x200B;\\n\\n  This is your story to tell. Don't let them tell it for you.\\n\\n&#x200B;\\n\\n&#x200B;\\n\\nOn behalf of the mod team.\\n\\n&#x200B;\\n\\nDon't come here to fuck around.  Be here to fuck.\", '', '', \"Fellow Apes, I have seen a lot of discussion on the possibility of hedge funds covering and whether or not they could have covered during the RH shutdown. I have done some analysis and would like to shares my results. This is not investment advice and should not be construed as such.\\n\\nI know you guys can't read, but I highly recommend learning how to read and reading this.🚀🚀🚀\\n\\n**Part 1: What Happened on the 28th?**\\n\\nAs we all know, last Thursday on the 28th RH and other brokerages disabled the purchase of GME shares at a critical moment that very well may have been the beginning of the squeeze. This is a significant day because it broke momentum, and many users seem to believe that the hedge funds planned this moment to strategically cover their short positions.\\n\\n[Here is a graph of the 28th with some of my analysis](https://imgur.com/a/XyG9sfV)\\n\\n[Here is a tweet from Ihor (S3) stating the short interest data as of the 28th](https://twitter.com/ihors3/status/1355194252674953219?s=20)\\n\\nPer S3, Short Interest was 62.9M as of the 27th and 57.8M as of the 28th. The net SI is (57.8M)-(62.9M)= -5.08M. This means the net short position reduced by 5.08M shares, however, many users claim that hedge funds may have used this opportunity to shift their short position higher so that they could minimize losses by covering on the way back down.\\n\\nWell lets say that's what happened, and lets assume it was carried out flawlessly. We will also assume this happened in a vacuum, i.e. retail did not contribute to any volume, so that we can get a liberal estimate.\\n\\nTo establish a short position at a higher price, hedge funds would be borrowing to short sell shares for the first 30 minutes as the price quickly rose to $482.85. If the entire volume during this period of time was hedge fund short selling, than they would have opened 15.8M more short positions. ~10M in volume happened in the first 10 minutes, so at best they would have 10M more shares sold short between $275 and $350, and the remaining 5.8M positions would be opened between $350 and $480.\\n\\nThis means that if shorts added to their position at this time, the best they could have done is add ~15.8M short positions at an average ~$300. This is assuming **no covering** was done during this period of time, which is highly unlikely considering the price **went up.**\\n\\nNow, during the freefall following RH trade restrictions, there was only 10.4M in volume. If hedge funds used this moment to cover old positions at a reduced price, they would have only been able to cover 10.4M positions, and 5.7M of those positions would have been covered at a cost greater than $300, only 4.7M could have been between $300 and $112. This is a minuscule amount of covering despite the ideal period of time, and it doesn't even account for that fact that **covering would drive the price up, not down.**\\n\\nLastly, after the nosedive there was a bounce of ~9.2M in volume. If we were to assume hedge funds were again able to add more short positions here to transition into a better average, they would only be able to add 9.2M at an average of ~$250. Once again, however, adding positions would have drove the price down, not up.\\n\\nSo even in the most ideal situation using RH's restrictions and ignoring market mechanics, shorts would have only been able to add 25M ideal short positions at an average of ~$280, while covering only 10.4M at exorbitant costs.\\n\\nThis likely didn't happen, for several reasons. \\n\\nFirst, S3 reports that short interest decreased by 5M on the 28th. Now of course there is plenty of volume to cover after the first half of trading, however, they would be at non-ideal prices.\\n\\nSecond, this theory is impossible because when shorts cover en mass, the price would increase not decrease, and when shorts sell en mass, the price would decrease not increase. \\n\\nThird, this is assuming that 0 volume was from retail investors trading between eachother, also highly unlikely given the hype at the time. \\n\\nFourth, in order to sell something short you need to borrow a share, and we know that, at that time, GME was **hard to borrow.** \\n\\nWhat is more likely is the **inverse** of the above, which would mean shorts covered 15.8M shares at an average cost of $300, then short sold 10.4M shares at an average of $250, before further covering 9.2M at an average of $250. **Despite ideal circumstances, that is not an ideal result for hedge funds.**\\n\\nThat means hedge funds **are not** kicking back and counting stacks after swapping their positions to $480 sell points, that would be impossible.\\n\\n**Part 2: What About Last Friday?**\\n\\nNow this was an important day, GME fought hard and closed at above $320. What makes this day confusing, however, are the claims that short interest drastically decreased.\\n\\n[Here is a chart of the 29th with my analysis](https://imgur.com/a/nU0JOXs)\\n\\n[Here is a tweet from S3 claiming short positions decreased by 30M shares by the end of Friday](https://twitter.com/ihors3/status/1356018482471718916?s=20)\\n\\nNow I won't get into detail about the other factors that call this claim into question, you can look into those on your own. What I want to go over is **how could it be remotely possible?**\\n\\nS3 claims 31M shares were covered on the 29th, however the share price had a net decreasing trend. There were only 2 notable upward rallys, and combined they only account for 24M shares. If hedge funds covered the whole 24M in volume it would still be 6M shares off and thats not even accounting for retail investors trading between themselves. Where did the other 6M shares go? I find it hard to believe they could cover 6M shares with no significant upward momentum while retail investors were buying shares in a frenzy on friday.\\n\\n[Also note that Short Volume was 17.6M on Friday](https://fintel.io/ss/us/gme)\\n\\nSo on Friday there was 50M in volume. 17.6M of that volume was due to shares sold short, so SI would be (57.8 SI as of the 28th)+(17.6M shares sold short) = 75.4M. In order for short interest to have decreased to around 27M as [S3 said](https://twitter.com/S3Partners/status/1356317744300490752?s=20), it would have required the covering of (75.4M)-(27M) = 48.4M shares. **How do you cover 48.4M shares when there is only 50M volume and 17.6M of that volume was used to ADD SHORT POSITIONS?**\\n\\n**There simply was not enough volume to cover a net 31M shares. At most, 32.4M shares TOTAL could have been covered if EVERY single purchase of GME was by a hedge fund with a short position, which would make SI (75.4M)-(32.4M) = 43M. It is highly unlikely that not a single retail investor, insider or institution purchased GME shares on Friday, so the actual SI is likely much higher.**\\n\\nFurthermore I want to draw attention to **other times shares were covered** and their effect on the price, and you tell me if hedge funds could cover 31M NET shares last Friday.\\n\\n[S3 claims](https://twitter.com/ihors3/status/1355249817048522755?s=20) that from Jan 12th to Jan 14th, the SI went from ~69M to ~62M, a decrease of 7M shares. On the 12th GME was worth $20 and by the 14th we saw a high of $43, an >100% increase.\\n\\nThey then claim that from the 14th to the 25th, there was a slight steady increase in SI as the share price crawled towards $50. From the 25th to the 27th there was literally **exponential growth** in the share price **despite no change in SI**. But then, all of a sudden, on the 28th there is a net decrease of 5M short positions and a significant reduction in price, and on the 29th there is a net decrease of 31M shares along with a steady decline in price. How could that be remotely accurate?\\n\\nThere was 50M in volume on the 29th, how could the purchase of >31M shares by a single entity, not even accounting for retail, result in a net decrease in share price? \\n\\n**Part 3: How Could They Do It?**\\n\\n[Read this post, and the sources within it, in detail](https://www.reddit.com/r/wallstreetbets/comments/ld5rd9/evidence_pointing_to_shorts_did_not_cover/?ref=share&ref_source=link)\\n\\nShorts can use deceptive options trades to trick you and other short interest analyzers into believing they have covered **when they have not**\\n\\nThere were $43M worth of mid March 800c purchases, you do the math.\\n\\nWhy was their a silver rush pulled out of thin air on monday? Why is the media still aggressively spreading FUD? Why are there bots everywhere in WSB? Shorts haven't covered, they can't cover and they wont. They also **did not** shift themselves into an advantageous short position last Thursday, there was only 19M in short volume total and minimal volume during ideal circumstances. They want you to think they covered, they also want you to think they have a better short position. \\n\\nThey want you to think this is over because there may not be enough shares for them to cover even if they wanted to. If there were they would have repositioned on Thursday. Brokerages restricting buying for retail investors was likely due to the fact that shorts couldn't find the shares to cover, nor could they find enough shares to reposition. They really need your shares and want to funnel them away from retail.\\n\\nTLDR: Seriously, read this whole thing. I know you won't, but do it. Hedge funds did not transition to better short positions during the RH fiasco last Thursday, it would have been impossible to do so in meaningful amounts. They also did not cover 31M shares last Friday, it would have been impossible based on volume alone. They want you to think they did, they need you to, but they did not.\\n\\nDisclaimer: I am not a financial advisor, nor am I licensed or in any way qualified to dictate or advise your trading decisions. This is not financial advice. This analysis is not meant to influence, inspire, or inform you regarding your trades. This analysis was written purely as speculation and could be entirely incorrect. I found my own analysis interesting and wanted to share my unprofessional opinion. Furthermore, while these numbers are accurate as per their sources, they may not account for other factors that relate to the stock’s activity. I own shares of GME.\\n\\nMonke Storng Together🦍, Memestonk to the Moon🚀🚀🚀🚀🚀🚀🚀🚀🚀🚀🚀\"]\n"
     ]
    }
   ],
   "source": [
    "print(get_posts('wallstreetbets', 5))"
   ]
  },
  {
   "cell_type": "code",
   "execution_count": 17,
   "id": "ancient-skiing",
   "metadata": {},
   "outputs": [],
   "source": [
    "def get_titles(sub, post_limit):\n",
    "    \n",
    "    reddit = get_reddit()\n",
    "    subreddit = reddit.subreddit(sub)\n",
    "    hot_sub = subreddit.hot(limit = post_limit)\n",
    "    master_list = []\n",
    "    \n",
    "\n",
    "    for submission in hot_sub:\n",
    "        if submission.link_flair_text != 'Meme':\n",
    "            master_list.append(submission.link_flair_text)\n",
    "    \n",
    "    return master_list"
   ]
  },
  {
   "cell_type": "code",
   "execution_count": 18,
   "id": "failing-formula",
   "metadata": {},
   "outputs": [
    {
     "name": "stdout",
     "output_type": "stream",
     "text": [
      "['Weekend Discussion', 'Official', 'Meme', 'Gain', 'DD']\n"
     ]
    }
   ],
   "source": [
    "print(get_titles('wallstreetbets', 5))"
   ]
  },
  {
   "cell_type": "code",
   "execution_count": null,
   "id": "valid-fusion",
   "metadata": {},
   "outputs": [],
   "source": []
  }
 ],
 "metadata": {
  "kernelspec": {
   "display_name": "Python 3",
   "language": "python",
   "name": "python3"
  },
  "language_info": {
   "codemirror_mode": {
    "name": "ipython",
    "version": 3
   },
   "file_extension": ".py",
   "mimetype": "text/x-python",
   "name": "python",
   "nbconvert_exporter": "python",
   "pygments_lexer": "ipython3",
   "version": "3.8.6"
  }
 },
 "nbformat": 4,
 "nbformat_minor": 5
}
