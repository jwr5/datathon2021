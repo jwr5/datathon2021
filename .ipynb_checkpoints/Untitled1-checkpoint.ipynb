{
 "cells": [
  {
   "cell_type": "code",
   "execution_count": 1,
   "id": "dietary-footwear",
   "metadata": {},
   "outputs": [],
   "source": [
    "import requests"
   ]
  },
  {
   "cell_type": "code",
   "execution_count": 2,
   "id": "intended-peninsula",
   "metadata": {},
   "outputs": [],
   "source": [
    "import requests.auth"
   ]
  },
  {
   "cell_type": "code",
   "execution_count": 3,
   "id": "identified-broadway",
   "metadata": {},
   "outputs": [],
   "source": [
    "client_auth = requests.auth.HTTPBasicAuth('L8_Qc_YBl1M0iQ', 'ZdHNBR6xxLlvPRGhFHkdml13GnVW1w')"
   ]
  },
  {
   "cell_type": "code",
   "execution_count": 4,
   "id": "competent-sierra",
   "metadata": {},
   "outputs": [],
   "source": [
    "post_data = {\"grant_type\": \"password\", \"username\": \"rice_stock_analysis\", \"password\": \"ricedatathon2021\"}"
   ]
  },
  {
   "cell_type": "code",
   "execution_count": 5,
   "id": "hundred-masters",
   "metadata": {},
   "outputs": [],
   "source": [
    "headers = {\"User-Agent\": \"ChangeMeClient/0.1 by rice_stock_analysis\"}"
   ]
  },
  {
   "cell_type": "code",
   "execution_count": 6,
   "id": "arbitrary-margin",
   "metadata": {},
   "outputs": [],
   "source": [
    "response = requests.post(\"https://www.reddit.com/api/v1/access_token\", auth=client_auth, data=post_data, headers=headers)"
   ]
  },
  {
   "cell_type": "code",
   "execution_count": 7,
   "id": "flying-premises",
   "metadata": {},
   "outputs": [
    {
     "data": {
      "text/plain": [
       "{'access_token': '789071231356-eYjp2tO30wpNLWm6A_YIhcPz8ZFWNg',\n",
       " 'token_type': 'bearer',\n",
       " 'expires_in': 3600,\n",
       " 'scope': '*'}"
      ]
     },
     "execution_count": 7,
     "metadata": {},
     "output_type": "execute_result"
    }
   ],
   "source": [
    "response.json()"
   ]
  },
  {
   "cell_type": "code",
   "execution_count": 8,
   "id": "pursuant-hawaiian",
   "metadata": {},
   "outputs": [],
   "source": [
    "import praw"
   ]
  },
  {
   "cell_type": "code",
   "execution_count": 9,
   "id": "funded-prophet",
   "metadata": {},
   "outputs": [
    {
     "name": "stderr",
     "output_type": "stream",
     "text": [
      "Version 7.1.0 of praw is outdated. Version 7.1.3 was released 7 hours ago.\n"
     ]
    }
   ],
   "source": [
    "reddit = praw.Reddit(client_id=\"L8_Qc_YBl1M0iQ\", client_secret=\"ZdHNBR6xxLlvPRGhFHkdml13GnVW1w\",\n",
    "                    user_agent=\"android:com.example.myredditapp:v1.2.3 (by u/rice_stock_analysis)\")"
   ]
  },
  {
   "cell_type": "code",
   "execution_count": 10,
   "id": "maritime-williams",
   "metadata": {},
   "outputs": [],
   "source": [
    "import praw"
   ]
  },
  {
   "cell_type": "code",
   "execution_count": 11,
   "id": "paperback-inventory",
   "metadata": {},
   "outputs": [],
   "source": [
    "reddit = praw.Reddit(client_id=\"L8_Qc_YBl1M0iQ\", client_secret=\"ZdHNBR6xxLlvPRGhFHkdml13GnVW1w\",\n",
    "                    user_agent=\"android:com.example.myredditapp:v1.2.3 (by u/rice_stock_analysis)\")"
   ]
  },
  {
   "cell_type": "code",
   "execution_count": 12,
   "id": "national-reminder",
   "metadata": {},
   "outputs": [
    {
     "name": "stdout",
     "output_type": "stream",
     "text": [
      "True\n"
     ]
    }
   ],
   "source": [
    "print(reddit.read_only)"
   ]
  },
  {
   "cell_type": "code",
   "execution_count": 13,
   "id": "orange-performance",
   "metadata": {},
   "outputs": [
    {
     "name": "stdout",
     "output_type": "stream",
     "text": [
      "Ask Anything Monday - Weekly Thread\n",
      "5 Projects For Beginners To Learn Python\n",
      "Not a question but I just wanted to share a personal achievement of mine with people who might actually understand how I feel.\n",
      "Removing a list from within a list\n",
      "Good Place to Start for a Settlers of Catan GUI?\n",
      "Sorry for this, but just have to ask - Best Python Course/Bootcamp? Help me change my life around 🙏🏼\n",
      "Okay -- I'm kinda stuck :/\n",
      "How to extract rows of nested dictionaries\n",
      "Making a variable = x OR y?\n",
      "could someone help me out in an exercise? Newbie to python and spent the last 4 hours and could't find a solution\n"
     ]
    }
   ],
   "source": [
    "for submission in reddit.subreddit(\"learnpython\").hot(limit=10):\n",
    "    print(submission.title)"
   ]
  },
  {
   "cell_type": "code",
   "execution_count": null,
   "id": "collected-choir",
   "metadata": {},
   "outputs": [],
   "source": []
  }
 ],
 "metadata": {
  "kernelspec": {
   "display_name": "Python 3",
   "language": "python",
   "name": "python3"
  },
  "language_info": {
   "codemirror_mode": {
    "name": "ipython",
    "version": 3
   },
   "file_extension": ".py",
   "mimetype": "text/x-python",
   "name": "python",
   "nbconvert_exporter": "python",
   "pygments_lexer": "ipython3",
   "version": "3.8.6"
  }
 },
 "nbformat": 4,
 "nbformat_minor": 5
}
