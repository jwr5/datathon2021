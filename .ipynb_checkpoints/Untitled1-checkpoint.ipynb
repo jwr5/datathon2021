{
 "cells": [
  {
   "cell_type": "code",
   "execution_count": 72,
   "id": "dietary-footwear",
   "metadata": {},
   "outputs": [],
   "source": [
    "import requests"
   ]
  },
  {
   "cell_type": "code",
   "execution_count": 73,
   "id": "intended-peninsula",
   "metadata": {},
   "outputs": [],
   "source": [
    "import requests.auth\n",
    "from credentials import CLIENT_ID, CLIENT_SECRET"
   ]
  },
  {
   "cell_type": "code",
   "execution_count": 89,
   "id": "plain-monkey",
   "metadata": {},
   "outputs": [],
   "source": [
    "import praw"
   ]
  },
  {
   "cell_type": "code",
   "execution_count": 90,
   "id": "chronic-format",
   "metadata": {},
   "outputs": [],
   "source": [
    "import pandas as pd"
   ]
  },
  {
   "cell_type": "code",
   "execution_count": 75,
   "id": "supreme-threshold",
   "metadata": {},
   "outputs": [],
   "source": [
    "def get_reddit():\n",
    "    client_auth = requests.auth.HTTPBasicAuth(CLIENT_ID, CLIENT_SECRET)\n",
    "    post_data = {\"grant_type\": \"password\", \"username\": \"rice_stock_analysis\", \"password\": \"ricedatathon2021\"}\n",
    "    headers = {\"User-Agent\": \"ChangeMeClient/0.1 by rice_stock_analysis\"}\n",
    "    response = requests.post(\"https://www.reddit.com/api/v1/access_token\", auth=client_auth, data=post_data, headers=headers)\n",
    "    response.json()\n",
    "    reddit = praw.Reddit(client_id=CLIENT_ID, client_secret=CLIENT_SECRET,\n",
    "                    user_agent=\"android:com.example.myredditapp:v1.2.3 (by u/rice_stock_analysis)\")\n",
    "    return reddit\n",
    "    "
   ]
  },
  {
   "cell_type": "code",
   "execution_count": 76,
   "id": "verified-coordinator",
   "metadata": {},
   "outputs": [],
   "source": [
    "def get_comments(sub, post_limit, comment_limit):\n",
    "    \n",
    "    reddit = get_reddit()\n",
    "    subreddit = reddit.subreddit(sub)\n",
    "    hot_sub = subreddit.hot(limit = post_limit)\n",
    "    master_list = []\n",
    "    \n",
    "    for submission in hot_sub:\n",
    "        comments = submission.comments\n",
    "        limit = 0\n",
    "        for comment in comments:\n",
    "            if limit > comment_limit:\n",
    "                break\n",
    "            master_list.append(comment.body)\n",
    "            limit = limit + 1\n",
    "    return master_list"
   ]
  },
  {
   "cell_type": "code",
   "execution_count": 77,
   "id": "sunrise-horizon",
   "metadata": {},
   "outputs": [],
   "source": [
    "#comments_list = get_comments('wallstreetbets')"
   ]
  },
  {
   "cell_type": "code",
   "execution_count": 78,
   "id": "australian-voluntary",
   "metadata": {},
   "outputs": [],
   "source": [
    "#print(comments_list)"
   ]
  },
  {
   "cell_type": "code",
   "execution_count": 85,
   "id": "streaming-judge",
   "metadata": {},
   "outputs": [],
   "source": [
    "def get_posts(sub, post_limit):\n",
    "    \n",
    "    reddit = get_reddit()\n",
    "    subreddit = reddit.subreddit(sub)\n",
    "    hot_sub = subreddit.hot(limit = post_limit)\n",
    "    master_list = []\n",
    "    \n",
    "    for submission in hot_sub:\n",
    "        master_list.append(submission.selftext)\n",
    "    \n",
    "    return master_list"
   ]
  },
  {
   "cell_type": "code",
   "execution_count": 86,
   "id": "selected-phrase",
   "metadata": {},
   "outputs": [],
   "source": [
    "#print(get_posts('wallstreetbets'))"
   ]
  },
  {
   "cell_type": "code",
   "execution_count": 87,
   "id": "ancient-skiing",
   "metadata": {},
   "outputs": [],
   "source": [
    "def get_titles(sub, post_limit):\n",
    "    \n",
    "    reddit = get_reddit()\n",
    "    subreddit = reddit.subreddit(sub)\n",
    "    hot_sub = subreddit.hot(limit = post_limit)\n",
    "    master_list = []\n",
    "    \n",
    "\n",
    "    for submission in hot_sub:\n",
    "        master_list.append(submission.title)\n",
    "    \n",
    "    return master_list"
   ]
  },
  {
   "cell_type": "code",
   "execution_count": 88,
   "id": "failing-formula",
   "metadata": {},
   "outputs": [
    {
     "name": "stdout",
     "output_type": "stream",
     "text": [
      "['Weekend Discussion Thread for the Weekend of February 05, 2021', 'Mango Juul Pods are Back!', 'Listen, it’s easy', \"My wife just told me she's pregnant with our 2nd!! 🥳 A) sweet! B) THANK YOU WSB FOR THESE 3M RETURNS! I'm on track to retire early and spend time with my kids 🙂\\U0001f972😭\", \"Analysis on Why Hedge Funds Didn't Reposition Last Thursday, Why They Didn't Cover on Friday, and Why They Want You to Think They Did. (GME)\"]\n"
     ]
    }
   ],
   "source": [
    "#print(get_titles('wallstreetbets', 5))"
   ]
  },
  {
   "cell_type": "code",
   "execution_count": null,
   "id": "valid-fusion",
   "metadata": {},
   "outputs": [],
   "source": []
  }
 ],
 "metadata": {
  "kernelspec": {
   "display_name": "Python 3",
   "language": "python",
   "name": "python3"
  },
  "language_info": {
   "codemirror_mode": {
    "name": "ipython",
    "version": 3
   },
   "file_extension": ".py",
   "mimetype": "text/x-python",
   "name": "python",
   "nbconvert_exporter": "python",
   "pygments_lexer": "ipython3",
   "version": "3.8.6"
  }
 },
 "nbformat": 4,
 "nbformat_minor": 5
}
