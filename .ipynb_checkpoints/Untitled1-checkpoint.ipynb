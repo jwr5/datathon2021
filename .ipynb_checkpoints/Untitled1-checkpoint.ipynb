{
 "cells": [
  {
   "cell_type": "code",
   "execution_count": 54,
   "id": "dietary-footwear",
   "metadata": {},
   "outputs": [],
   "source": [
    "import requests"
   ]
  },
  {
   "cell_type": "code",
   "execution_count": 55,
   "id": "intended-peninsula",
   "metadata": {},
   "outputs": [],
   "source": [
    "import requests.auth\n",
    "from credentials import CLIENT_ID, CLIENT_SECRET"
   ]
  },
  {
   "cell_type": "code",
   "execution_count": 56,
   "id": "miniature-liability",
   "metadata": {},
   "outputs": [],
   "source": [
    "import praw"
   ]
  },
  {
   "cell_type": "code",
   "execution_count": 57,
   "id": "indonesian-brother",
   "metadata": {},
   "outputs": [],
   "source": [
    "def get_reddit():\n",
    "    client_auth = requests.auth.HTTPBasicAuth(CLIENT_ID, CLIENT_SECRET)\n",
    "    post_data = {\"grant_type\": \"password\", \"username\": \"rice_stock_analysis\", \"password\": \"ricedatathon2021\"}\n",
    "    headers = {\"User-Agent\": \"ChangeMeClient/0.1 by rice_stock_analysis\"}\n",
    "    response = requests.post(\"https://www.reddit.com/api/v1/access_token\", auth=client_auth, data=post_data, headers=headers)\n",
    "    response.json()\n",
    "    reddit = praw.Reddit(client_id=CLIENT_ID, client_secret=CLIENT_SECRET,\n",
    "                    user_agent=\"android:com.example.myredditapp:v1.2.3 (by u/rice_stock_analysis)\")\n",
    "    return reddit\n",
    "    "
   ]
  },
  {
   "cell_type": "code",
   "execution_count": 58,
   "id": "verified-coordinator",
   "metadata": {},
   "outputs": [],
   "source": [
    "def get_comments(sub):\n",
    "    \n",
    "    reddit = get_reddit()\n",
    "    subreddit = reddit.subreddit(sub)\n",
    "    hot_sub = subreddit.hot(limit = 3)\n",
    "    master_list = []\n",
    "    \n",
    "    for submission in hot_sub:\n",
    "        comments = submission.comments\n",
    "        limit = 0\n",
    "        for comment in comments:\n",
    "            if limit > 5:\n",
    "                break\n",
    "            master_list.append(comment.body)\n",
    "            limit = limit + 1\n",
    "    return master_list"
   ]
  },
  {
   "cell_type": "code",
   "execution_count": 59,
   "id": "sunrise-horizon",
   "metadata": {},
   "outputs": [],
   "source": [
    "comments_list = get_comments('wallstreetbets')"
   ]
  },
  {
   "cell_type": "code",
   "execution_count": 60,
   "id": "voluntary-packet",
   "metadata": {},
   "outputs": [
    {
     "name": "stdout",
     "output_type": "stream",
     "text": [
      "['I\\'m honestly so happy that it has gone back to \"wallstreetbets are a bunch of gambling degenerates\". That is an important reputation to cultivate. Because I for one be making Hella tendies on this sub and don\\'t want people ruining it.', 'Did I lose $5k this week? You betcha. \\n\\nBut did I make back $188 today? Fuck yeah I did! \\nApe gainz \\n\\n💪🏻😤🦍💪🏻😤🦍💪🏻😤💎🙌💎🙌🚀🚀🚀', 'Robinhood users think that clicking on Level 2 data turns their phone into a bloomberg terminal.', \"By far the craziest week in the stock market that I've seen in my 2 weeks in the stock market\", 'I hope we can all agree, whether we bagheld or made a profit, whether we bought into the GME hype or not, that CNBC can go fuck themselves with a splintery broom handle covered in broken glass', 'Fuck you and see you on monday', 'Can’t wait for u/zjz to come back if he wants to. Dude loves this sub. I’m glad you guys managed to win over the bad guys again. Stay diligent! I’m sure these fucks will keep trying, this is the second time in less than a year but the mods have HELD THE FUCKING LINE. \\n\\nAlso, fuck the “board of directors” or whatever stupid BS they called themselves.', 'Test post am I shadow banned? I am holding a GME share, is anyone receiving this transmission', \"why can't your reinstate /u/zjz?   I call BS until I see him reinstated as an admin\", 'Remember not even 24 hours ago when this sub got taken over by accounts that were 5 hours old and flooded with people telling everyone to sell? Did the admins stop the bots or is it just because we’re up so people aren’t having as much fun taunting people who are down?', '#have yall noticed that the bots all sound alike 🤔', 'I’ll drink my own semen if GME hits 150$', \"Plan to get her boyfriend's money back.\", 'Me to my husband 2 days ago lol.. let’s say he’s not convinced yet', \"I'm only down 4grand, 4 more to go. 🦍🦍💎💎🙌🙌\", 'Flair it as a meme not loss, please it’s not that hard.', 'All we need is a 3rd mortgage on the house honey dont you see it', 'As the great Gordon Gekko once said “A fool and his money are lucky enough to get together in the first place”']\n"
     ]
    }
   ],
   "source": [
    "print(comments_list)"
   ]
  },
  {
   "cell_type": "code",
   "execution_count": null,
   "id": "aquatic-timing",
   "metadata": {},
   "outputs": [],
   "source": []
  }
 ],
 "metadata": {
  "kernelspec": {
   "display_name": "Python 3",
   "language": "python",
   "name": "python3"
  },
  "language_info": {
   "codemirror_mode": {
    "name": "ipython",
    "version": 3
   },
   "file_extension": ".py",
   "mimetype": "text/x-python",
   "name": "python",
   "nbconvert_exporter": "python",
   "pygments_lexer": "ipython3",
   "version": "3.8.6"
  }
 },
 "nbformat": 4,
 "nbformat_minor": 5
}
