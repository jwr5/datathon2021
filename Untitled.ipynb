{
 "cells": [
  {
   "cell_type": "code",
   "execution_count": 5,
   "id": "supreme-weight",
   "metadata": {},
   "outputs": [],
   "source": [
    "import pandas as pd\n",
    "from pytrends.request import TrendReq"
   ]
  },
  {
   "cell_type": "code",
   "execution_count": 6,
   "id": "juvenile-genetics",
   "metadata": {},
   "outputs": [],
   "source": [
    "pytrend = TrendReq()"
   ]
  },
  {
   "cell_type": "code",
   "execution_count": 16,
   "id": "objective-elite",
   "metadata": {},
   "outputs": [],
   "source": [
    "pytrend.build_payload(['kanye', 'insane'])"
   ]
  },
  {
   "cell_type": "code",
   "execution_count": 17,
   "id": "cellular-footwear",
   "metadata": {},
   "outputs": [],
   "source": [
    "df = pytrend.interest_by_region()"
   ]
  },
  {
   "cell_type": "code",
   "execution_count": 22,
   "id": "looking-kelly",
   "metadata": {},
   "outputs": [],
   "source": [
    "suggestions = pytrend.suggestions(keyword = 'mercedes benz')"
   ]
  },
  {
   "cell_type": "code",
   "execution_count": 23,
   "id": "violent-debate",
   "metadata": {},
   "outputs": [],
   "source": [
    "sugdata = pd.DataFrame(suggestions)"
   ]
  },
  {
   "cell_type": "code",
   "execution_count": 24,
   "id": "extensive-america",
   "metadata": {},
   "outputs": [
    {
     "data": {
      "text/html": [
       "<div>\n",
       "<style scoped>\n",
       "    .dataframe tbody tr th:only-of-type {\n",
       "        vertical-align: middle;\n",
       "    }\n",
       "\n",
       "    .dataframe tbody tr th {\n",
       "        vertical-align: top;\n",
       "    }\n",
       "\n",
       "    .dataframe thead th {\n",
       "        text-align: right;\n",
       "    }\n",
       "</style>\n",
       "<table border=\"1\" class=\"dataframe\">\n",
       "  <thead>\n",
       "    <tr style=\"text-align: right;\">\n",
       "      <th></th>\n",
       "      <th>mid</th>\n",
       "      <th>title</th>\n",
       "      <th>type</th>\n",
       "    </tr>\n",
       "  </thead>\n",
       "  <tbody>\n",
       "    <tr>\n",
       "      <th>0</th>\n",
       "      <td>/m/052mx</td>\n",
       "      <td>Mercedes-Benz</td>\n",
       "      <td>Luxury vehicles company</td>\n",
       "    </tr>\n",
       "    <tr>\n",
       "      <th>1</th>\n",
       "      <td>/m/024y62</td>\n",
       "      <td>Mercedes-Benz C-Class</td>\n",
       "      <td>Mid-size car</td>\n",
       "    </tr>\n",
       "    <tr>\n",
       "      <th>2</th>\n",
       "      <td>/g/11b7n_p8gw</td>\n",
       "      <td>Mercedes-Benz GLC-Class</td>\n",
       "      <td>Luxury vehicle</td>\n",
       "    </tr>\n",
       "    <tr>\n",
       "      <th>3</th>\n",
       "      <td>/m/03fgc9</td>\n",
       "      <td>Mercedes-Benz GLE-Class</td>\n",
       "      <td>Luxury vehicle</td>\n",
       "    </tr>\n",
       "    <tr>\n",
       "      <th>4</th>\n",
       "      <td>/m/024y9s</td>\n",
       "      <td>Mercedes-Benz S-Class</td>\n",
       "      <td>Luxury vehicle</td>\n",
       "    </tr>\n",
       "  </tbody>\n",
       "</table>\n",
       "</div>"
      ],
      "text/plain": [
       "             mid                    title                     type\n",
       "0       /m/052mx            Mercedes-Benz  Luxury vehicles company\n",
       "1      /m/024y62    Mercedes-Benz C-Class             Mid-size car\n",
       "2  /g/11b7n_p8gw  Mercedes-Benz GLC-Class           Luxury vehicle\n",
       "3      /m/03fgc9  Mercedes-Benz GLE-Class           Luxury vehicle\n",
       "4      /m/024y9s    Mercedes-Benz S-Class           Luxury vehicle"
      ]
     },
     "execution_count": 24,
     "metadata": {},
     "output_type": "execute_result"
    }
   ],
   "source": [
    "sugdata.head(20)"
   ]
  },
  {
   "cell_type": "code",
   "execution_count": null,
   "id": "referenced-rebel",
   "metadata": {},
   "outputs": [],
   "source": []
  }
 ],
 "metadata": {
  "kernelspec": {
   "display_name": "Python 3",
   "language": "python",
   "name": "python3"
  },
  "language_info": {
   "codemirror_mode": {
    "name": "ipython",
    "version": 3
   },
   "file_extension": ".py",
   "mimetype": "text/x-python",
   "name": "python",
   "nbconvert_exporter": "python",
   "pygments_lexer": "ipython3",
   "version": "3.8.6"
  }
 },
 "nbformat": 4,
 "nbformat_minor": 5
}
